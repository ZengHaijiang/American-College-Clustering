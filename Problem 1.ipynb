{
 "cells": [
  {
   "cell_type": "code",
   "execution_count": 1,
   "metadata": {},
   "outputs": [],
   "source": [
    "import numpy as np\n",
    "import pandas as pd\n",
    "from sklearn import decomposition\n",
    "import matplotlib.pyplot as plt\n",
    "import pylab as P\n",
    "from sklearn.cluster import KMeans"
   ]
  },
  {
   "cell_type": "markdown",
   "metadata": {},
   "source": [
    "### Data Exploration"
   ]
  },
  {
   "cell_type": "code",
   "execution_count": 2,
   "metadata": {},
   "outputs": [],
   "source": [
    "us=pd.read_csv('universities_pca_2 .csv')"
   ]
  },
  {
   "cell_type": "code",
   "execution_count": 3,
   "metadata": {},
   "outputs": [
    {
     "data": {
      "text/plain": [
       "(471, 18)"
      ]
     },
     "execution_count": 3,
     "metadata": {},
     "output_type": "execute_result"
    }
   ],
   "source": [
    "us.shape"
   ]
  },
  {
   "cell_type": "code",
   "execution_count": 4,
   "metadata": {},
   "outputs": [
    {
     "data": {
      "text/html": [
       "<div>\n",
       "<style scoped>\n",
       "    .dataframe tbody tr th:only-of-type {\n",
       "        vertical-align: middle;\n",
       "    }\n",
       "\n",
       "    .dataframe tbody tr th {\n",
       "        vertical-align: top;\n",
       "    }\n",
       "\n",
       "    .dataframe thead th {\n",
       "        text-align: right;\n",
       "    }\n",
       "</style>\n",
       "<table border=\"1\" class=\"dataframe\">\n",
       "  <thead>\n",
       "    <tr style=\"text-align: right;\">\n",
       "      <th></th>\n",
       "      <th>College Name</th>\n",
       "      <th># appli. rec'd</th>\n",
       "      <th># appl. accepted</th>\n",
       "      <th># new stud. enrolled</th>\n",
       "      <th>% new stud. from top 10%</th>\n",
       "      <th>% new stud. from top 25%</th>\n",
       "      <th># FT undergrad</th>\n",
       "      <th># PT undergrad</th>\n",
       "      <th>in-state tuition</th>\n",
       "      <th>out-of-state tuition</th>\n",
       "      <th>room</th>\n",
       "      <th>board</th>\n",
       "      <th>add. fees</th>\n",
       "      <th>estim. book costs</th>\n",
       "      <th>estim. personal $</th>\n",
       "      <th>% fac. w/PHD</th>\n",
       "      <th>stud./fac. ratio</th>\n",
       "      <th>Graduation rate</th>\n",
       "    </tr>\n",
       "  </thead>\n",
       "  <tbody>\n",
       "    <tr>\n",
       "      <th>0</th>\n",
       "      <td>Alaska Pacific University</td>\n",
       "      <td>193</td>\n",
       "      <td>146</td>\n",
       "      <td>55</td>\n",
       "      <td>16</td>\n",
       "      <td>44</td>\n",
       "      <td>249</td>\n",
       "      <td>869</td>\n",
       "      <td>7560</td>\n",
       "      <td>7560</td>\n",
       "      <td>1620</td>\n",
       "      <td>2500</td>\n",
       "      <td>130</td>\n",
       "      <td>800</td>\n",
       "      <td>1500</td>\n",
       "      <td>76</td>\n",
       "      <td>11.9</td>\n",
       "      <td>15</td>\n",
       "    </tr>\n",
       "    <tr>\n",
       "      <th>1</th>\n",
       "      <td>University of Alaska Southeast</td>\n",
       "      <td>146</td>\n",
       "      <td>117</td>\n",
       "      <td>89</td>\n",
       "      <td>4</td>\n",
       "      <td>24</td>\n",
       "      <td>492</td>\n",
       "      <td>1849</td>\n",
       "      <td>1742</td>\n",
       "      <td>5226</td>\n",
       "      <td>2514</td>\n",
       "      <td>2250</td>\n",
       "      <td>34</td>\n",
       "      <td>500</td>\n",
       "      <td>1162</td>\n",
       "      <td>39</td>\n",
       "      <td>9.5</td>\n",
       "      <td>39</td>\n",
       "    </tr>\n",
       "    <tr>\n",
       "      <th>2</th>\n",
       "      <td>Birmingham-Southern College</td>\n",
       "      <td>805</td>\n",
       "      <td>588</td>\n",
       "      <td>287</td>\n",
       "      <td>67</td>\n",
       "      <td>88</td>\n",
       "      <td>1376</td>\n",
       "      <td>207</td>\n",
       "      <td>11660</td>\n",
       "      <td>11660</td>\n",
       "      <td>2050</td>\n",
       "      <td>2430</td>\n",
       "      <td>120</td>\n",
       "      <td>400</td>\n",
       "      <td>900</td>\n",
       "      <td>74</td>\n",
       "      <td>14.0</td>\n",
       "      <td>72</td>\n",
       "    </tr>\n",
       "    <tr>\n",
       "      <th>3</th>\n",
       "      <td>Huntingdon College</td>\n",
       "      <td>608</td>\n",
       "      <td>520</td>\n",
       "      <td>127</td>\n",
       "      <td>26</td>\n",
       "      <td>47</td>\n",
       "      <td>538</td>\n",
       "      <td>126</td>\n",
       "      <td>8080</td>\n",
       "      <td>8080</td>\n",
       "      <td>1380</td>\n",
       "      <td>2540</td>\n",
       "      <td>100</td>\n",
       "      <td>500</td>\n",
       "      <td>1100</td>\n",
       "      <td>63</td>\n",
       "      <td>11.4</td>\n",
       "      <td>44</td>\n",
       "    </tr>\n",
       "    <tr>\n",
       "      <th>4</th>\n",
       "      <td>Talladega College</td>\n",
       "      <td>4414</td>\n",
       "      <td>1500</td>\n",
       "      <td>335</td>\n",
       "      <td>30</td>\n",
       "      <td>60</td>\n",
       "      <td>908</td>\n",
       "      <td>119</td>\n",
       "      <td>5666</td>\n",
       "      <td>5666</td>\n",
       "      <td>1424</td>\n",
       "      <td>1540</td>\n",
       "      <td>418</td>\n",
       "      <td>1000</td>\n",
       "      <td>1400</td>\n",
       "      <td>56</td>\n",
       "      <td>15.5</td>\n",
       "      <td>46</td>\n",
       "    </tr>\n",
       "  </tbody>\n",
       "</table>\n",
       "</div>"
      ],
      "text/plain": [
       "                     College Name  # appli. rec'd  # appl. accepted  \\\n",
       "0       Alaska Pacific University             193               146   \n",
       "1  University of Alaska Southeast             146               117   \n",
       "2     Birmingham-Southern College             805               588   \n",
       "3              Huntingdon College             608               520   \n",
       "4               Talladega College            4414              1500   \n",
       "\n",
       "   # new stud. enrolled  % new stud. from top 10%  % new stud. from top 25%  \\\n",
       "0                    55                        16                        44   \n",
       "1                    89                         4                        24   \n",
       "2                   287                        67                        88   \n",
       "3                   127                        26                        47   \n",
       "4                   335                        30                        60   \n",
       "\n",
       "   # FT undergrad  # PT undergrad  in-state tuition  out-of-state tuition  \\\n",
       "0             249             869              7560                  7560   \n",
       "1             492            1849              1742                  5226   \n",
       "2            1376             207             11660                 11660   \n",
       "3             538             126              8080                  8080   \n",
       "4             908             119              5666                  5666   \n",
       "\n",
       "   room  board  add. fees  estim. book costs  estim. personal $  % fac. w/PHD  \\\n",
       "0  1620   2500        130                800               1500            76   \n",
       "1  2514   2250         34                500               1162            39   \n",
       "2  2050   2430        120                400                900            74   \n",
       "3  1380   2540        100                500               1100            63   \n",
       "4  1424   1540        418               1000               1400            56   \n",
       "\n",
       "   stud./fac. ratio  Graduation rate  \n",
       "0              11.9               15  \n",
       "1               9.5               39  \n",
       "2              14.0               72  \n",
       "3              11.4               44  \n",
       "4              15.5               46  "
      ]
     },
     "execution_count": 4,
     "metadata": {},
     "output_type": "execute_result"
    }
   ],
   "source": [
    "us.head()#special data does not exist(eg. containing much 0)"
   ]
  },
  {
   "cell_type": "code",
   "execution_count": 5,
   "metadata": {},
   "outputs": [
    {
     "data": {
      "text/plain": [
       "College Name                 object\n",
       "# appli. rec'd                int64\n",
       "# appl. accepted              int64\n",
       "# new stud. enrolled          int64\n",
       "% new stud. from top 10%      int64\n",
       "% new stud. from top 25%      int64\n",
       "# FT undergrad                int64\n",
       "# PT undergrad                int64\n",
       "in-state tuition              int64\n",
       "out-of-state tuition          int64\n",
       "room                          int64\n",
       "board                         int64\n",
       "add. fees                     int64\n",
       "estim. book costs             int64\n",
       "estim. personal $             int64\n",
       "% fac. w/PHD                  int64\n",
       "stud./fac. ratio            float64\n",
       "Graduation rate               int64\n",
       "dtype: object"
      ]
     },
     "execution_count": 5,
     "metadata": {},
     "output_type": "execute_result"
    }
   ],
   "source": [
    "us.dtypes #To scale the features"
   ]
  },
  {
   "cell_type": "code",
   "execution_count": 6,
   "metadata": {},
   "outputs": [
    {
     "data": {
      "text/html": [
       "<div>\n",
       "<style scoped>\n",
       "    .dataframe tbody tr th:only-of-type {\n",
       "        vertical-align: middle;\n",
       "    }\n",
       "\n",
       "    .dataframe tbody tr th {\n",
       "        vertical-align: top;\n",
       "    }\n",
       "\n",
       "    .dataframe thead th {\n",
       "        text-align: right;\n",
       "    }\n",
       "</style>\n",
       "<table border=\"1\" class=\"dataframe\">\n",
       "  <thead>\n",
       "    <tr style=\"text-align: right;\">\n",
       "      <th></th>\n",
       "      <th>College Name</th>\n",
       "      <th># appli. rec'd</th>\n",
       "      <th># appl. accepted</th>\n",
       "      <th># new stud. enrolled</th>\n",
       "      <th>% new stud. from top 10%</th>\n",
       "      <th>% new stud. from top 25%</th>\n",
       "      <th># FT undergrad</th>\n",
       "      <th># PT undergrad</th>\n",
       "      <th>in-state tuition</th>\n",
       "      <th>out-of-state tuition</th>\n",
       "      <th>room</th>\n",
       "      <th>board</th>\n",
       "      <th>add. fees</th>\n",
       "      <th>estim. book costs</th>\n",
       "      <th>estim. personal $</th>\n",
       "      <th>% fac. w/PHD</th>\n",
       "      <th>stud./fac. ratio</th>\n",
       "      <th>Graduation rate</th>\n",
       "    </tr>\n",
       "  </thead>\n",
       "  <tbody>\n",
       "  </tbody>\n",
       "</table>\n",
       "</div>"
      ],
      "text/plain": [
       "Empty DataFrame\n",
       "Columns: [College Name, # appli. rec'd, # appl. accepted, # new stud. enrolled, % new stud. from top 10%, % new stud. from top 25%, # FT undergrad, # PT undergrad, in-state tuition, out-of-state tuition, room, board, add. fees, estim. book costs, estim. personal $, % fac. w/PHD, stud./fac. ratio, Graduation rate]\n",
       "Index: []"
      ]
     },
     "execution_count": 6,
     "metadata": {},
     "output_type": "execute_result"
    }
   ],
   "source": [
    "us[us.isnull().values==True]# we don't have null number, congratulations!"
   ]
  },
  {
   "cell_type": "code",
   "execution_count": 7,
   "metadata": {},
   "outputs": [
    {
     "data": {
      "text/plain": [
       "Index(['College Name', '# appli. rec'd', '# appl. accepted',\n",
       "       '# new stud. enrolled', '% new stud. from top 10%',\n",
       "       '% new stud. from top 25%', '# FT undergrad', '# PT undergrad',\n",
       "       'in-state tuition', 'out-of-state tuition', 'room', 'board',\n",
       "       'add. fees', 'estim. book costs', 'estim. personal $', '% fac. w/PHD',\n",
       "       'stud./fac. ratio', 'Graduation rate'],\n",
       "      dtype='object')"
      ]
     },
     "execution_count": 7,
     "metadata": {},
     "output_type": "execute_result"
    }
   ],
   "source": [
    "us.columns"
   ]
  },
  {
   "cell_type": "code",
   "execution_count": 8,
   "metadata": {},
   "outputs": [],
   "source": [
    "us = us.rename(columns=lambda x: x.replace(\"'\",\"\"))"
   ]
  },
  {
   "cell_type": "code",
   "execution_count": 9,
   "metadata": {},
   "outputs": [],
   "source": [
    "us['appli.rate'] = us['# appl. accepted']/us['# appli. recd']"
   ]
  },
  {
   "cell_type": "markdown",
   "metadata": {},
   "source": [
    "### Data Visualization"
   ]
  },
  {
   "cell_type": "code",
   "execution_count": 10,
   "metadata": {},
   "outputs": [
    {
     "data": {
      "image/png": "[encoded data removed]",
      "text/plain": [
       "<Figure size 1188x468 with 3 Axes>"
      ]
     },
     "metadata": {
      "needs_background": "light"
     },
     "output_type": "display_data"
    }
   ],
   "source": [
    "#Let's see the distribution of graduation rate, appli.rate and in-state tuition among different colleges\n",
    "fig = plt.gcf()\n",
    "fig.set_size_inches(16.5, 6.5)\n",
    "plt.subplot(1,3,1) #要生成两行两列，这是第一个图plt.subplot('行','列','编号')\n",
    "plt.hist(us['Graduation rate'],color = 'cornsilk',edgecolor = 'black')\n",
    "\n",
    "plt.xlabel('Graduation Rate')\n",
    "plt.ylabel('Frequency')\n",
    "\n",
    "plt.title('Graduation Distribution')\n",
    "plt.subplot(1,3,2)\n",
    "plt.hist(us['appli.rate'],color = 'lawngreen',edgecolor = 'black')\n",
    "\n",
    "plt.xlabel('Admission Rate')\n",
    "plt.ylabel('Frequency')\n",
    "\n",
    "plt.title('Admission Rate Distribution')\n",
    "\n",
    "plt.subplot(1,3,3)\n",
    "plt.hist(us['in-state tuition'],color = 'paleturquoise',edgecolor = 'black')\n",
    "\n",
    "plt.xlabel('in-state tuition')\n",
    "plt.ylabel('Frequency')\n",
    "\n",
    "plt.title('in-state tuition Distribution')\n",
    "plt.show()"
   ]
  },
  {
   "cell_type": "code",
   "execution_count": 11,
   "metadata": {},
   "outputs": [
    {
     "data": {
      "image/png": "[encoded data removed]",
      "text/plain": [
       "<Figure size 1188x468 with 2 Axes>"
      ]
     },
     "metadata": {},
     "output_type": "display_data"
    }
   ],
   "source": [
    "extremely_high_admission_rate=0\n",
    "high_admission_rate=0\n",
    "medium_admission_rate=0\n",
    "low_admission_rate=0\n",
    "for i in us['appli.rate']:\n",
    "    if i >=0.9:\n",
    "        extremely_high_admission_rate+=1\n",
    "    elif 0.75<=i<0.9:\n",
    "        high_admission_rate+=1\n",
    "    elif 0.5<=i<0.75:\n",
    "        medium_admission_rate+=1\n",
    "    else:\n",
    "        low_admission_rate+=1\n",
    "    \n",
    "fig = plt.gcf()\n",
    "fig.set_size_inches(16.5, 6.5)\n",
    "plt.subplot(1,2,1) #要生成两行两列，这是第一个图plt.subplot('行','列','编号')\n",
    "\n",
    "labels = ['extremely_high_admission_rate','high_admission_rate','medium_admission_rate','low_admission_rate']\n",
    "sizes = [extremely_high_admission_rate,high_admission_rate,medium_admission_rate,low_admission_rate]\n",
    "explode = (0.1,0,0,0)\n",
    "plt.pie(sizes,explode=explode,labels=labels,autopct='%1.1f%%',shadow=False,startangle=150)\n",
    "plt.axis('equal')\n",
    "plt.title(\"admission_rate\")\n",
    "\n",
    "extremely_expensive_tuition=0\n",
    "high_tuition=0\n",
    "medium_tuition=0\n",
    "low_tuition=0\n",
    "for i in us['in-state tuition']:\n",
    "    if i >=18000:\n",
    "        extremely_expensive_tuition+=1\n",
    "    elif 12000<=i<18000:\n",
    "        high_tuition+=1\n",
    "    elif 6500<=i<12000:\n",
    "        medium_tuition+=1\n",
    "    else:\n",
    "        low_tuition+=1\n",
    "plt.subplot(1,2,2)\n",
    "labels = ['extremely_expensive_tuition','high_tuition','medium_tuition','low_tuition']\n",
    "sizes = [extremely_expensive_tuition,high_tuition,medium_tuition,low_tuition]\n",
    "explode = (0,0,0,0.1)\n",
    "plt.pie(sizes,explode=explode,labels=labels,autopct='%1.1f%%',shadow=False,startangle=150)\n",
    "plt.axis('equal')\n",
    "plt.title(\"tuition\")\n",
    "plt.show()"
   ]
  },
  {
   "cell_type": "markdown",
   "metadata": {},
   "source": [
    "## PCA Analysis"
   ]
  },
  {
   "cell_type": "code",
   "execution_count": 12,
   "metadata": {},
   "outputs": [],
   "source": [
    "us_new=us.drop(['College Name'],axis=1)\n",
    "us_new=us_new.drop(['appli.rate'],axis=1)"
   ]
  },
  {
   "cell_type": "code",
   "execution_count": 13,
   "metadata": {},
   "outputs": [
    {
     "data": {
      "text/html": [
       "<div>\n",
       "<style scoped>\n",
       "    .dataframe tbody tr th:only-of-type {\n",
       "        vertical-align: middle;\n",
       "    }\n",
       "\n",
       "    .dataframe tbody tr th {\n",
       "        vertical-align: top;\n",
       "    }\n",
       "\n",
       "    .dataframe thead th {\n",
       "        text-align: right;\n",
       "    }\n",
       "</style>\n",
       "<table border=\"1\" class=\"dataframe\">\n",
       "  <thead>\n",
       "    <tr style=\"text-align: right;\">\n",
       "      <th></th>\n",
       "      <th># appli. recd</th>\n",
       "      <th># appl. accepted</th>\n",
       "      <th># new stud. enrolled</th>\n",
       "      <th>% new stud. from top 10%</th>\n",
       "      <th>% new stud. from top 25%</th>\n",
       "      <th># FT undergrad</th>\n",
       "      <th># PT undergrad</th>\n",
       "      <th>in-state tuition</th>\n",
       "      <th>out-of-state tuition</th>\n",
       "      <th>room</th>\n",
       "      <th>board</th>\n",
       "      <th>add. fees</th>\n",
       "      <th>estim. book costs</th>\n",
       "      <th>estim. personal $</th>\n",
       "      <th>% fac. w/PHD</th>\n",
       "      <th>stud./fac. ratio</th>\n",
       "      <th>Graduation rate</th>\n",
       "    </tr>\n",
       "  </thead>\n",
       "  <tbody>\n",
       "    <tr>\n",
       "      <th>0</th>\n",
       "      <td>193</td>\n",
       "      <td>146</td>\n",
       "      <td>55</td>\n",
       "      <td>16</td>\n",
       "      <td>44</td>\n",
       "      <td>249</td>\n",
       "      <td>869</td>\n",
       "      <td>7560</td>\n",
       "      <td>7560</td>\n",
       "      <td>1620</td>\n",
       "      <td>2500</td>\n",
       "      <td>130</td>\n",
       "      <td>800</td>\n",
       "      <td>1500</td>\n",
       "      <td>76</td>\n",
       "      <td>11.9</td>\n",
       "      <td>15</td>\n",
       "    </tr>\n",
       "    <tr>\n",
       "      <th>1</th>\n",
       "      <td>146</td>\n",
       "      <td>117</td>\n",
       "      <td>89</td>\n",
       "      <td>4</td>\n",
       "      <td>24</td>\n",
       "      <td>492</td>\n",
       "      <td>1849</td>\n",
       "      <td>1742</td>\n",
       "      <td>5226</td>\n",
       "      <td>2514</td>\n",
       "      <td>2250</td>\n",
       "      <td>34</td>\n",
       "      <td>500</td>\n",
       "      <td>1162</td>\n",
       "      <td>39</td>\n",
       "      <td>9.5</td>\n",
       "      <td>39</td>\n",
       "    </tr>\n",
       "    <tr>\n",
       "      <th>2</th>\n",
       "      <td>805</td>\n",
       "      <td>588</td>\n",
       "      <td>287</td>\n",
       "      <td>67</td>\n",
       "      <td>88</td>\n",
       "      <td>1376</td>\n",
       "      <td>207</td>\n",
       "      <td>11660</td>\n",
       "      <td>11660</td>\n",
       "      <td>2050</td>\n",
       "      <td>2430</td>\n",
       "      <td>120</td>\n",
       "      <td>400</td>\n",
       "      <td>900</td>\n",
       "      <td>74</td>\n",
       "      <td>14.0</td>\n",
       "      <td>72</td>\n",
       "    </tr>\n",
       "    <tr>\n",
       "      <th>3</th>\n",
       "      <td>608</td>\n",
       "      <td>520</td>\n",
       "      <td>127</td>\n",
       "      <td>26</td>\n",
       "      <td>47</td>\n",
       "      <td>538</td>\n",
       "      <td>126</td>\n",
       "      <td>8080</td>\n",
       "      <td>8080</td>\n",
       "      <td>1380</td>\n",
       "      <td>2540</td>\n",
       "      <td>100</td>\n",
       "      <td>500</td>\n",
       "      <td>1100</td>\n",
       "      <td>63</td>\n",
       "      <td>11.4</td>\n",
       "      <td>44</td>\n",
       "    </tr>\n",
       "    <tr>\n",
       "      <th>4</th>\n",
       "      <td>4414</td>\n",
       "      <td>1500</td>\n",
       "      <td>335</td>\n",
       "      <td>30</td>\n",
       "      <td>60</td>\n",
       "      <td>908</td>\n",
       "      <td>119</td>\n",
       "      <td>5666</td>\n",
       "      <td>5666</td>\n",
       "      <td>1424</td>\n",
       "      <td>1540</td>\n",
       "      <td>418</td>\n",
       "      <td>1000</td>\n",
       "      <td>1400</td>\n",
       "      <td>56</td>\n",
       "      <td>15.5</td>\n",
       "      <td>46</td>\n",
       "    </tr>\n",
       "    <tr>\n",
       "      <th>...</th>\n",
       "      <td>...</td>\n",
       "      <td>...</td>\n",
       "      <td>...</td>\n",
       "      <td>...</td>\n",
       "      <td>...</td>\n",
       "      <td>...</td>\n",
       "      <td>...</td>\n",
       "      <td>...</td>\n",
       "      <td>...</td>\n",
       "      <td>...</td>\n",
       "      <td>...</td>\n",
       "      <td>...</td>\n",
       "      <td>...</td>\n",
       "      <td>...</td>\n",
       "      <td>...</td>\n",
       "      <td>...</td>\n",
       "      <td>...</td>\n",
       "    </tr>\n",
       "    <tr>\n",
       "      <th>466</th>\n",
       "      <td>5729</td>\n",
       "      <td>4520</td>\n",
       "      <td>1957</td>\n",
       "      <td>20</td>\n",
       "      <td>52</td>\n",
       "      <td>8516</td>\n",
       "      <td>1264</td>\n",
       "      <td>2208</td>\n",
       "      <td>6996</td>\n",
       "      <td>1565</td>\n",
       "      <td>1140</td>\n",
       "      <td>1070</td>\n",
       "      <td>279</td>\n",
       "      <td>1260</td>\n",
       "      <td>80</td>\n",
       "      <td>19.3</td>\n",
       "      <td>61</td>\n",
       "    </tr>\n",
       "    <tr>\n",
       "      <th>467</th>\n",
       "      <td>152</td>\n",
       "      <td>128</td>\n",
       "      <td>75</td>\n",
       "      <td>17</td>\n",
       "      <td>41</td>\n",
       "      <td>282</td>\n",
       "      <td>22</td>\n",
       "      <td>9100</td>\n",
       "      <td>9100</td>\n",
       "      <td>1800</td>\n",
       "      <td>1900</td>\n",
       "      <td>90</td>\n",
       "      <td>500</td>\n",
       "      <td>1400</td>\n",
       "      <td>48</td>\n",
       "      <td>8.5</td>\n",
       "      <td>50</td>\n",
       "    </tr>\n",
       "    <tr>\n",
       "      <th>468</th>\n",
       "      <td>582</td>\n",
       "      <td>498</td>\n",
       "      <td>172</td>\n",
       "      <td>21</td>\n",
       "      <td>44</td>\n",
       "      <td>799</td>\n",
       "      <td>78</td>\n",
       "      <td>10468</td>\n",
       "      <td>10468</td>\n",
       "      <td>1574</td>\n",
       "      <td>1806</td>\n",
       "      <td>92</td>\n",
       "      <td>660</td>\n",
       "      <td>1800</td>\n",
       "      <td>40</td>\n",
       "      <td>11.5</td>\n",
       "      <td>52</td>\n",
       "    </tr>\n",
       "    <tr>\n",
       "      <th>469</th>\n",
       "      <td>4226</td>\n",
       "      <td>3666</td>\n",
       "      <td>2007</td>\n",
       "      <td>14</td>\n",
       "      <td>60</td>\n",
       "      <td>7703</td>\n",
       "      <td>2339</td>\n",
       "      <td>1660</td>\n",
       "      <td>5094</td>\n",
       "      <td>2030</td>\n",
       "      <td>1980</td>\n",
       "      <td>330</td>\n",
       "      <td>700</td>\n",
       "      <td>1560</td>\n",
       "      <td>77</td>\n",
       "      <td>16.6</td>\n",
       "      <td>50</td>\n",
       "    </tr>\n",
       "    <tr>\n",
       "      <th>470</th>\n",
       "      <td>2029</td>\n",
       "      <td>1516</td>\n",
       "      <td>1073</td>\n",
       "      <td>23</td>\n",
       "      <td>46</td>\n",
       "      <td>7535</td>\n",
       "      <td>1488</td>\n",
       "      <td>1908</td>\n",
       "      <td>5988</td>\n",
       "      <td>1462</td>\n",
       "      <td>1960</td>\n",
       "      <td>300</td>\n",
       "      <td>600</td>\n",
       "      <td>1500</td>\n",
       "      <td>91</td>\n",
       "      <td>15.1</td>\n",
       "      <td>45</td>\n",
       "    </tr>\n",
       "  </tbody>\n",
       "</table>\n",
       "<p>471 rows × 17 columns</p>\n",
       "</div>"
      ],
      "text/plain": [
       "     # appli. recd  # appl. accepted  # new stud. enrolled  \\\n",
       "0              193               146                    55   \n",
       "1              146               117                    89   \n",
       "2              805               588                   287   \n",
       "3              608               520                   127   \n",
       "4             4414              1500                   335   \n",
       "..             ...               ...                   ...   \n",
       "466           5729              4520                  1957   \n",
       "467            152               128                    75   \n",
       "468            582               498                   172   \n",
       "469           4226              3666                  2007   \n",
       "470           2029              1516                  1073   \n",
       "\n",
       "     % new stud. from top 10%  % new stud. from top 25%  # FT undergrad  \\\n",
       "0                          16                        44             249   \n",
       "1                           4                        24             492   \n",
       "2                          67                        88            1376   \n",
       "3                          26                        47             538   \n",
       "4                          30                        60             908   \n",
       "..                        ...                       ...             ...   \n",
       "466                        20                        52            8516   \n",
       "467                        17                        41             282   \n",
       "468                        21                        44             799   \n",
       "469                        14                        60            7703   \n",
       "470                        23                        46            7535   \n",
       "\n",
       "     # PT undergrad  in-state tuition  out-of-state tuition  room  board  \\\n",
       "0               869              7560                  7560  1620   2500   \n",
       "1              1849              1742                  5226  2514   2250   \n",
       "2               207             11660                 11660  2050   2430   \n",
       "3               126              8080                  8080  1380   2540   \n",
       "4               119              5666                  5666  1424   1540   \n",
       "..              ...               ...                   ...   ...    ...   \n",
       "466            1264              2208                  6996  1565   1140   \n",
       "467              22              9100                  9100  1800   1900   \n",
       "468              78             10468                 10468  1574   1806   \n",
       "469            2339              1660                  5094  2030   1980   \n",
       "470            1488              1908                  5988  1462   1960   \n",
       "\n",
       "     add. fees  estim. book costs  estim. personal $  % fac. w/PHD  \\\n",
       "0          130                800               1500            76   \n",
       "1           34                500               1162            39   \n",
       "2          120                400                900            74   \n",
       "3          100                500               1100            63   \n",
       "4          418               1000               1400            56   \n",
       "..         ...                ...                ...           ...   \n",
       "466       1070                279               1260            80   \n",
       "467         90                500               1400            48   \n",
       "468         92                660               1800            40   \n",
       "469        330                700               1560            77   \n",
       "470        300                600               1500            91   \n",
       "\n",
       "     stud./fac. ratio  Graduation rate  \n",
       "0                11.9               15  \n",
       "1                 9.5               39  \n",
       "2                14.0               72  \n",
       "3                11.4               44  \n",
       "4                15.5               46  \n",
       "..                ...              ...  \n",
       "466              19.3               61  \n",
       "467               8.5               50  \n",
       "468              11.5               52  \n",
       "469              16.6               50  \n",
       "470              15.1               45  \n",
       "\n",
       "[471 rows x 17 columns]"
      ]
     },
     "execution_count": 13,
     "metadata": {},
     "output_type": "execute_result"
    }
   ],
   "source": [
    "us_new"
   ]
  },
  {
   "cell_type": "code",
   "execution_count": 14,
   "metadata": {},
   "outputs": [],
   "source": [
    "for column in us_new.columns:\n",
    "    us_new[column] = us_new[column].apply(lambda x: (x - min(us[column])) / (max(us[column]) - min(us[column])))"
   ]
  },
  {
   "cell_type": "code",
   "execution_count": 15,
   "metadata": {},
   "outputs": [
    {
     "data": {
      "text/html": [
       "<div>\n",
       "<style scoped>\n",
       "    .dataframe tbody tr th:only-of-type {\n",
       "        vertical-align: middle;\n",
       "    }\n",
       "\n",
       "    .dataframe tbody tr th {\n",
       "        vertical-align: top;\n",
       "    }\n",
       "\n",
       "    .dataframe thead th {\n",
       "        text-align: right;\n",
       "    }\n",
       "</style>\n",
       "<table border=\"1\" class=\"dataframe\">\n",
       "  <thead>\n",
       "    <tr style=\"text-align: right;\">\n",
       "      <th></th>\n",
       "      <th># appli. recd</th>\n",
       "      <th># appl. accepted</th>\n",
       "      <th># new stud. enrolled</th>\n",
       "      <th>% new stud. from top 10%</th>\n",
       "      <th>% new stud. from top 25%</th>\n",
       "      <th># FT undergrad</th>\n",
       "      <th># PT undergrad</th>\n",
       "      <th>in-state tuition</th>\n",
       "      <th>out-of-state tuition</th>\n",
       "      <th>room</th>\n",
       "      <th>board</th>\n",
       "      <th>add. fees</th>\n",
       "      <th>estim. book costs</th>\n",
       "      <th>estim. personal $</th>\n",
       "      <th>% fac. w/PHD</th>\n",
       "      <th>stud./fac. ratio</th>\n",
       "      <th>Graduation rate</th>\n",
       "    </tr>\n",
       "  </thead>\n",
       "  <tbody>\n",
       "    <tr>\n",
       "      <th>0</th>\n",
       "      <td>0.002416</td>\n",
       "      <td>0.003236</td>\n",
       "      <td>0.004399</td>\n",
       "      <td>0.157895</td>\n",
       "      <td>0.384615</td>\n",
       "      <td>0.000000</td>\n",
       "      <td>0.039753</td>\n",
       "      <td>0.356659</td>\n",
       "      <td>0.341940</td>\n",
       "      <td>0.234674</td>\n",
       "      <td>0.491022</td>\n",
       "      <td>0.037071</td>\n",
       "      <td>0.315556</td>\n",
       "      <td>0.190840</td>\n",
       "      <td>0.715789</td>\n",
       "      <td>0.347490</td>\n",
       "      <td>0.000000</td>\n",
       "    </tr>\n",
       "    <tr>\n",
       "      <th>1</th>\n",
       "      <td>0.001437</td>\n",
       "      <td>0.002132</td>\n",
       "      <td>0.009741</td>\n",
       "      <td>0.031579</td>\n",
       "      <td>0.164835</td>\n",
       "      <td>0.007740</td>\n",
       "      <td>0.084635</td>\n",
       "      <td>0.058178</td>\n",
       "      <td>0.219458</td>\n",
       "      <td>0.448755</td>\n",
       "      <td>0.428678</td>\n",
       "      <td>0.007414</td>\n",
       "      <td>0.182222</td>\n",
       "      <td>0.139237</td>\n",
       "      <td>0.326316</td>\n",
       "      <td>0.254826</td>\n",
       "      <td>0.233010</td>\n",
       "    </tr>\n",
       "    <tr>\n",
       "      <th>2</th>\n",
       "      <td>0.015161</td>\n",
       "      <td>0.020062</td>\n",
       "      <td>0.040848</td>\n",
       "      <td>0.694737</td>\n",
       "      <td>0.868132</td>\n",
       "      <td>0.035899</td>\n",
       "      <td>0.009434</td>\n",
       "      <td>0.567002</td>\n",
       "      <td>0.557095</td>\n",
       "      <td>0.337644</td>\n",
       "      <td>0.473566</td>\n",
       "      <td>0.033982</td>\n",
       "      <td>0.137778</td>\n",
       "      <td>0.099237</td>\n",
       "      <td>0.694737</td>\n",
       "      <td>0.428571</td>\n",
       "      <td>0.553398</td>\n",
       "    </tr>\n",
       "    <tr>\n",
       "      <th>3</th>\n",
       "      <td>0.011059</td>\n",
       "      <td>0.017473</td>\n",
       "      <td>0.015711</td>\n",
       "      <td>0.263158</td>\n",
       "      <td>0.417582</td>\n",
       "      <td>0.009206</td>\n",
       "      <td>0.005725</td>\n",
       "      <td>0.383337</td>\n",
       "      <td>0.369228</td>\n",
       "      <td>0.177203</td>\n",
       "      <td>0.500998</td>\n",
       "      <td>0.027804</td>\n",
       "      <td>0.182222</td>\n",
       "      <td>0.129771</td>\n",
       "      <td>0.578947</td>\n",
       "      <td>0.328185</td>\n",
       "      <td>0.281553</td>\n",
       "    </tr>\n",
       "    <tr>\n",
       "      <th>4</th>\n",
       "      <td>0.090322</td>\n",
       "      <td>0.054779</td>\n",
       "      <td>0.048390</td>\n",
       "      <td>0.305263</td>\n",
       "      <td>0.560440</td>\n",
       "      <td>0.020991</td>\n",
       "      <td>0.005404</td>\n",
       "      <td>0.259491</td>\n",
       "      <td>0.242548</td>\n",
       "      <td>0.187739</td>\n",
       "      <td>0.251621</td>\n",
       "      <td>0.126043</td>\n",
       "      <td>0.404444</td>\n",
       "      <td>0.175573</td>\n",
       "      <td>0.505263</td>\n",
       "      <td>0.486486</td>\n",
       "      <td>0.300971</td>\n",
       "    </tr>\n",
       "  </tbody>\n",
       "</table>\n",
       "</div>"
      ],
      "text/plain": [
       "   # appli. recd  # appl. accepted  # new stud. enrolled  \\\n",
       "0       0.002416          0.003236              0.004399   \n",
       "1       0.001437          0.002132              0.009741   \n",
       "2       0.015161          0.020062              0.040848   \n",
       "3       0.011059          0.017473              0.015711   \n",
       "4       0.090322          0.054779              0.048390   \n",
       "\n",
       "   % new stud. from top 10%  % new stud. from top 25%  # FT undergrad  \\\n",
       "0                  0.157895                  0.384615        0.000000   \n",
       "1                  0.031579                  0.164835        0.007740   \n",
       "2                  0.694737                  0.868132        0.035899   \n",
       "3                  0.263158                  0.417582        0.009206   \n",
       "4                  0.305263                  0.560440        0.020991   \n",
       "\n",
       "   # PT undergrad  in-state tuition  out-of-state tuition      room     board  \\\n",
       "0        0.039753          0.356659              0.341940  0.234674  0.491022   \n",
       "1        0.084635          0.058178              0.219458  0.448755  0.428678   \n",
       "2        0.009434          0.567002              0.557095  0.337644  0.473566   \n",
       "3        0.005725          0.383337              0.369228  0.177203  0.500998   \n",
       "4        0.005404          0.259491              0.242548  0.187739  0.251621   \n",
       "\n",
       "   add. fees  estim. book costs  estim. personal $  % fac. w/PHD  \\\n",
       "0   0.037071           0.315556           0.190840      0.715789   \n",
       "1   0.007414           0.182222           0.139237      0.326316   \n",
       "2   0.033982           0.137778           0.099237      0.694737   \n",
       "3   0.027804           0.182222           0.129771      0.578947   \n",
       "4   0.126043           0.404444           0.175573      0.505263   \n",
       "\n",
       "   stud./fac. ratio  Graduation rate  \n",
       "0          0.347490         0.000000  \n",
       "1          0.254826         0.233010  \n",
       "2          0.428571         0.553398  \n",
       "3          0.328185         0.281553  \n",
       "4          0.486486         0.300971  "
      ]
     },
     "execution_count": 15,
     "metadata": {},
     "output_type": "execute_result"
    }
   ],
   "source": [
    "us_new.head(5)"
   ]
  },
  {
   "cell_type": "code",
   "execution_count": 16,
   "metadata": {},
   "outputs": [
    {
     "data": {
      "text/plain": [
       "(471, 17)"
      ]
     },
     "execution_count": 16,
     "metadata": {},
     "output_type": "execute_result"
    }
   ],
   "source": [
    "us_new.shape"
   ]
  },
  {
   "cell_type": "code",
   "execution_count": 17,
   "metadata": {},
   "outputs": [
    {
     "data": {
      "text/plain": [
       "PCA(copy=True, iterated_power='auto', n_components=16, random_state=None,\n",
       "    svd_solver='auto', tol=0.0, whiten=False)"
      ]
     },
     "execution_count": 17,
     "metadata": {},
     "output_type": "execute_result"
    }
   ],
   "source": [
    "from sklearn import decomposition\n",
    "pca = decomposition.PCA(n_components=16)\n",
    "pca.fit(us_new)"
   ]
  },
  {
   "cell_type": "code",
   "execution_count": 18,
   "metadata": {},
   "outputs": [
    {
     "data": {
      "image/png": "[encoded data removed]",
      "text/plain": [
       "<Figure size 432x288 with 1 Axes>"
      ]
     },
     "metadata": {
      "needs_background": "light"
     },
     "output_type": "display_data"
    }
   ],
   "source": [
    "plt.figure()\n",
    "plt.plot(pca.explained_variance_, 'b', linewidth=2)\n",
    "plt.xlabel('n_components', fontsize=16)\n",
    "plt.ylabel('explained_variance_', fontsize=16)\n",
    "plt.show()"
   ]
  },
  {
   "cell_type": "code",
   "execution_count": 19,
   "metadata": {},
   "outputs": [
    {
     "name": "stdout",
     "output_type": "stream",
     "text": [
      "[0.49266115 0.18837932 0.07412351 0.04133334 0.03885771 0.03608323\n",
      " 0.02888189 0.02443215 0.02203495 0.01696808 0.01013027 0.00830545\n",
      " 0.00655087 0.00487488 0.00452445 0.00128043]\n"
     ]
    }
   ],
   "source": [
    "print(pca.explained_variance_ratio_)"
   ]
  },
  {
   "cell_type": "markdown",
   "metadata": {},
   "source": [
    "#### As we can see,  if we want 95% explained variance, components=10 is enough, for 99% explained variance, components=14 will be ok, and next I'll choose components=4 since 4 seems good enough for me."
   ]
  },
  {
   "cell_type": "code",
   "execution_count": 20,
   "metadata": {},
   "outputs": [
    {
     "data": {
      "text/plain": [
       "PCA(copy=True, iterated_power='auto', n_components=4, random_state=None,\n",
       "    svd_solver='auto', tol=0.0, whiten=False)"
      ]
     },
     "execution_count": 20,
     "metadata": {},
     "output_type": "execute_result"
    }
   ],
   "source": [
    "pca = decomposition.PCA(n_components=4)\n",
    "pca.fit(us_new)"
   ]
  },
  {
   "cell_type": "code",
   "execution_count": 21,
   "metadata": {},
   "outputs": [
    {
     "name": "stdout",
     "output_type": "stream",
     "text": [
      "[0.49266115 0.18837932 0.07412351 0.04133334]\n"
     ]
    }
   ],
   "source": [
    "print(pca.explained_variance_ratio_)"
   ]
  },
  {
   "cell_type": "code",
   "execution_count": 22,
   "metadata": {},
   "outputs": [
    {
     "name": "stdout",
     "output_type": "stream",
     "text": [
      "[[2.12458894e-02 1.82320108e-04 3.52555156e-02 3.29612790e-01\n",
      "  3.63144529e-01 5.14212642e-02 3.78408526e-02 5.51181922e-01\n",
      "  4.56649985e-01 2.12567886e-01 1.90176150e-01 1.89512238e-02\n",
      "  1.59259366e-02 6.93838812e-02 2.01136257e-01 2.02581710e-01\n",
      "  2.70381520e-01]\n",
      " [2.38662727e-01 2.69149920e-01 4.44014340e-01 2.50134827e-01\n",
      "  3.40325837e-01 4.60228602e-01 1.18617553e-01 3.32055387e-01\n",
      "  9.53704823e-02 3.28442403e-02 1.14929908e-02 1.33064112e-01\n",
      "  2.24771090e-02 1.02083228e-01 3.20776666e-01 1.05904732e-01\n",
      "  7.65976804e-02]\n",
      " [1.40977869e-01 2.07544378e-01 2.17412323e-01 4.03934016e-01\n",
      "  4.98312770e-01 2.19798978e-01 1.22243957e-01 1.50361797e-01\n",
      "  2.24233917e-01 5.03307747e-01 2.73598383e-01 9.27075883e-02\n",
      "  3.15057303e-02 1.13550436e-02 4.32107066e-02 2.07052661e-02\n",
      "  4.44136371e-02]\n",
      " [3.75127166e-02 2.88580372e-02 1.00361337e-01 1.86782968e-01\n",
      "  8.90106439e-02 1.32433315e-01 1.09868534e-01 8.32945515e-02\n",
      "  4.00748470e-02 5.07807475e-02 5.11619872e-03 1.86821381e-01\n",
      "  9.37549024e-02 2.65539849e-01 2.54758512e-01 4.88575231e-01\n",
      "  6.97357189e-01]]\n"
     ]
    }
   ],
   "source": [
    "print(abs( pca.components_ ))"
   ]
  },
  {
   "cell_type": "code",
   "execution_count": 23,
   "metadata": {},
   "outputs": [],
   "source": [
    "explained_varience = ['component1','component2','component3','component4']\n",
    "feature_1=feature_2=feature_3=feature_4=feature_5=feature_6=feature_7=feature_8=feature_9=feature_10=feature_11=feature_12=feature_13=feature_14=feature_15=feature_16=feature_17=np.array([])\n",
    "for i in abs( pca.components_ ):\n",
    "    feature_1=np.append(feature_1,np.array(i[0]))\n",
    "    feature_2=np.append(feature_2,np.array(i[1]))\n",
    "    feature_3=np.append(feature_3,np.array(i[2]))\n",
    "    feature_4=np.append(feature_4,np.array(i[3]))\n",
    "    feature_5=np.append(feature_5,np.array(i[4]))\n",
    "    feature_6=np.append(feature_6,np.array(i[5]))\n",
    "    feature_7=np.append(feature_7,np.array(i[6]))\n",
    "    feature_8=np.append(feature_8,np.array(i[7]))\n",
    "    feature_9=np.append(feature_9,np.array(i[8]))\n",
    "    feature_10=np.append(feature_10,np.array(i[9]))\n",
    "    feature_11=np.append(feature_11,np.array(i[10]))\n",
    "    feature_12=np.append(feature_12,np.array(i[11]))\n",
    "    feature_13=np.append(feature_13,np.array(i[12]))\n",
    "    feature_14=np.append(feature_14,np.array(i[13]))\n",
    "    feature_15=np.append(feature_15,np.array(i[14]))\n",
    "    feature_16=np.append(feature_16,np.array(i[15]))\n",
    "    feature_17=np.append(feature_17,np.array(i[16]))"
   ]
  },
  {
   "cell_type": "code",
   "execution_count": 24,
   "metadata": {},
   "outputs": [
    {
     "data": {
      "image/png": "[encoded data removed]",
      "text/plain": [
       "<Figure size 720x1440 with 1 Axes>"
      ]
     },
     "metadata": {
      "needs_background": "light"
     },
     "output_type": "display_data"
    }
   ],
   "source": [
    "plt.figure(figsize=(10,20))\n",
    "plt.bar(explained_varience,feature_1,width=0.2, label='feature_1', color=\"green\")\n",
    "\n",
    "plt.bar(explained_varience,feature_2,width=0.2, label='feature_2',bottom=feature_1, color=\"yellow\")\n",
    "\n",
    "plt.bar(explained_varience,feature_3,width=0.2,label='feature_3', bottom=feature_1+feature_2, color=\"blue\")\n",
    "\n",
    "plt.bar(explained_varience,feature_4,width=0.2,label='feature_4', bottom=feature_1+feature_2+feature_3, color=\"black\")\n",
    "plt.bar(explained_varience,feature_5,width=0.2,label='feature_5', bottom=feature_1+feature_2+feature_3+feature_4, color=\"gainsboro\")\n",
    "plt.bar(explained_varience,feature_6,width=0.2,label='feature_6', bottom=feature_1+feature_2+feature_3+feature_4+feature_5, color=\"brown\")\n",
    "plt.bar(explained_varience,feature_7,width=0.2,label='feature_7', bottom=feature_1+feature_2+feature_3+feature_4+feature_5+feature_6, color=\"firebrick\")\n",
    "plt.bar(explained_varience,feature_8,width=0.2,label='feature_8', bottom=feature_1+feature_2+feature_3+feature_4+feature_5+feature_6+feature_7, color=\"pink\")\n",
    "plt.bar(explained_varience,feature_9,width=0.2,label='feature_9', bottom=feature_1+feature_2+feature_3+feature_4+feature_5+feature_6+feature_7+feature_8, color=\"deepskyblue\")\n",
    "plt.bar(explained_varience,feature_10,width=0.2,label='feature_10', bottom=feature_1+feature_2+feature_3+feature_4+feature_5+feature_6+feature_7+feature_8+feature_9, color=\"gold\")\n",
    "plt.bar(explained_varience,feature_11,width=0.2,label='feature_11', bottom=feature_1+feature_2+feature_3+feature_4+feature_5+feature_6+feature_7+feature_8+feature_9+feature_10, color=\"slategray\")\n",
    "plt.bar(explained_varience,feature_12,width=0.2,label='feature_12', bottom=feature_1+feature_2+feature_3+feature_4+feature_5+feature_6+feature_7+feature_8+feature_9+feature_10+feature_11, color=\"lawngreen\")\n",
    "plt.bar(explained_varience,feature_13,width=0.2,label='feature_13', bottom=feature_1+feature_2+feature_3+feature_4+feature_5+feature_6+feature_7+feature_8+feature_9+feature_10+feature_11+feature_12, color=\"honeydew\")\n",
    "plt.bar(explained_varience,feature_14,width=0.2,label='feature_14', bottom=feature_1+feature_2+feature_3+feature_4+feature_5+feature_6+feature_7+feature_8+feature_9+feature_10+feature_11+feature_12+feature_13, color=\"indigo\")\n",
    "plt.bar(explained_varience,feature_15,width=0.2,label='feature_15', bottom=feature_1+feature_2+feature_3+feature_4+feature_5+feature_6+feature_7+feature_8+feature_9+feature_10+feature_11+feature_12+feature_13+feature_14, color=\"peru\")\n",
    "plt.bar(explained_varience,feature_16,width=0.2,label='feature_16', bottom=feature_1+feature_2+feature_3+feature_4+feature_5+feature_6+feature_7+feature_8+feature_9+feature_10+feature_11+feature_12+feature_13+feature_14+feature_15,color=\"paleturquoise\")\n",
    "plt.bar(explained_varience,feature_17,width=0.2,label='feature_17', bottom=feature_1+feature_2+feature_3+feature_4+feature_5+feature_6+feature_7+feature_8+feature_9+feature_10+feature_11+feature_12+feature_13+feature_14+feature_15+feature_16,color=\"fuchsia\")\n",
    "\n",
    "plt.legend(loc=\"upper right\")\n",
    "plt.title(\"Top 4 components\")\n",
    "\n",
    "plt.ylabel('explained_varience')\n",
    "\n",
    "plt.show()  "
   ]
  },
  {
   "cell_type": "markdown",
   "metadata": {},
   "source": [
    "From the graph above we can see that the 4 new components are contributed by mainly all fetures in the dataset. And the component1 mainly reprensents the *\"new stud. from top 25%\",\"in state tuition\" and \"out state tuition\"*; the component2 mainly reprensents the *new stud. enrolled, # PT undergrad*; the component3 mainly reprensents the % new stud. from top 10%,% new stud. from top 25% and room while the component4 mainly reprensents the* stud./fac. ratio and Graduation rate*"
   ]
  },
  {
   "cell_type": "code",
   "execution_count": 25,
   "metadata": {
    "scrolled": true
   },
   "outputs": [
    {
     "data": {
      "text/plain": [
       "[<matplotlib.lines.Line2D at 0x1a1cee8d50>]"
      ]
     },
     "execution_count": 25,
     "metadata": {},
     "output_type": "execute_result"
    },
    {
     "data": {
      "image/png": "[encoded data removed]",
      "text/plain": [
       "<Figure size 432x288 with 1 Axes>"
      ]
     },
     "metadata": {
      "needs_background": "light"
     },
     "output_type": "display_data"
    }
   ],
   "source": [
    "pca = decomposition.PCA(n_components=2)\n",
    "pca.fit(us_new)\n",
    "us_new_pca=pca.transform(us_new)\n",
    "pca_x=[]\n",
    "pca_y=[]\n",
    "for i in us_new_pca:\n",
    "    pca_x.append(i[0])\n",
    "    pca_y.append(i[1])\n",
    "plt.plot(pca_x,pca_y,'o')"
   ]
  },
  {
   "cell_type": "markdown",
   "metadata": {},
   "source": [
    "#### From the graph above we can see that like 70% data is basically in the same line and of course there are some outliners. For example, there are some schools which have poor score in component 1 but have high score in component 2"
   ]
  },
  {
   "cell_type": "markdown",
   "metadata": {},
   "source": [
    "### Clustering Analysis"
   ]
  },
  {
   "cell_type": "code",
   "execution_count": 26,
   "metadata": {},
   "outputs": [
    {
     "data": {
      "image/png": "[encoded data removed]",
      "text/plain": [
       "<Figure size 432x288 with 1 Axes>"
      ]
     },
     "metadata": {
      "needs_background": "light"
     },
     "output_type": "display_data"
    }
   ],
   "source": [
    "# kmeans.inertia method\n",
    "d=[]\n",
    "for i in range(1,11):    #Let's pick k from 1 to 11 to see which number of k will be the best\n",
    "    km=KMeans(n_clusters=i,init='k-means++',n_init=10,max_iter=300,random_state=0)\n",
    "    km.fit(us_new_pca)\n",
    "    d.append(km.inertia_)  \n",
    "\n",
    "plt.plot(range(1,11),d,marker='o')\n",
    "plt.xlabel('number of clusters')\n",
    "plt.ylabel('distortions')\n",
    "plt.show()"
   ]
  },
  {
   "cell_type": "code",
   "execution_count": 27,
   "metadata": {},
   "outputs": [
    {
     "name": "stdout",
     "output_type": "stream",
     "text": [
      "the number of clusters:  4\n"
     ]
    }
   ],
   "source": [
    "from sklearn import metrics\n",
    "from sklearn.cluster import SpectralClustering\n",
    "\n",
    "#silhouette_score method\n",
    "\n",
    "small=2\n",
    "large=12\n",
    "silScore=np.zeros([1,large-small+1])\n",
    "\n",
    "for i in range(small,large):\n",
    "    km=KMeans(n_clusters=i,init='k-means++',n_init=10,max_iter=300,random_state=0)\n",
    "    clustering_i=km.fit(us_new_pca)\n",
    "    labels = clustering_i.labels_\n",
    "    silScore[0,i-small]=metrics.silhouette_score(us_new_pca, labels, metric='euclidean')\n",
    "\n",
    "##find the number of clusters when the score is the largest                                              \n",
    "index=np.argmax(silScore)\n",
    "\n",
    "n_clusters=index+small\n",
    "\n",
    "print(\"the number of clusters: \", n_clusters)\n"
   ]
  },
  {
   "cell_type": "markdown",
   "metadata": {},
   "source": [
    "It seems both 3 and 4 are good choices, so here let's just choose 4 and next we'll see what will happen if we use two components first."
   ]
  },
  {
   "cell_type": "code",
   "execution_count": 28,
   "metadata": {},
   "outputs": [
    {
     "data": {
      "text/plain": [
       "KMeans(algorithm='auto', copy_x=True, init='k-means++', max_iter=300,\n",
       "       n_clusters=4, n_init=10, n_jobs=None, precompute_distances='auto',\n",
       "       random_state=None, tol=0.0001, verbose=0)"
      ]
     },
     "execution_count": 28,
     "metadata": {},
     "output_type": "execute_result"
    }
   ],
   "source": [
    "kmeans=KMeans(n_clusters=4)\n",
    "pca = decomposition.PCA(n_components=2)\n",
    "pca.fit(us_new)\n",
    "us_new_pca=pca.transform(us_new)\n",
    "kmeans.fit(us_new_pca)"
   ]
  },
  {
   "cell_type": "code",
   "execution_count": 29,
   "metadata": {},
   "outputs": [
    {
     "data": {
      "image/png": "[encoded data removed]",
      "text/plain": [
       "<Figure size 576x720 with 1 Axes>"
      ]
     },
     "metadata": {
      "needs_background": "light"
     },
     "output_type": "display_data"
    }
   ],
   "source": [
    "plt.figure(figsize=(8,10))  \n",
    "colors = ['b', 'g', 'r','y']  \n",
    "markers = ['o', 's', 'D','^']  \n",
    "for i,l in enumerate(kmeans.labels_):  \n",
    "     plt.plot(pca_x[i],pca_y[i],color=colors[l],marker=markers[l],ls='None')  \n",
    "plt.show()  "
   ]
  },
  {
   "cell_type": "code",
   "execution_count": 30,
   "metadata": {},
   "outputs": [
    {
     "name": "stdout",
     "output_type": "stream",
     "text": [
      "[1 1 0 1 1 1 0 0 1 2 2 2 2 3 3 3 3 3 0 3 1 3 0 3 3 3 0 1 3 1 1 1 1 1 3 0 0\n",
      " 3 0 0 3 1 2 0 3 3 0 2 0 1 0 1 0 3 0 3 2 1 3 0 0 2 0 1 2 0 0 0 0 0 1 1 3 0\n",
      " 0 1 0 0 2 0 0 1 1 0 0 0 0 3 3 3 1 0 0 1 0 0 3 2 2 1 0 0 3 0 0 0 0 1 0 1 0\n",
      " 0 0 0 0 0 1 0 1 1 1 1 0 3 0 0 1 0 0 1 2 0 3 3 0 0 3 0 3 3 0 3 0 3 1 1 1 1\n",
      " 3 0 2 3 3 3 3 3 1 2 1 3 3 1 0 1 0 0 0 1 0 0 1 2 2 1 0 2 0 3 0 0 0 0 3 1 0\n",
      " 0 2 2 1 1 0 1 1 1 1 1 2 0 3 1 0 0 0 0 1 2 1 2 1 1 2 1 1 3 3 2 1 1 1 0 0 1\n",
      " 0 1 1 0 0 2 2 2 1 2 1 1 1 2 1 1 0 1 0 0 1 2 1 3 0 0 2 1 0 3 0 1 0 2 0 3 2\n",
      " 0 0 2 2 2 0 1 3 0 0 3 3 3 3 0 0 3 0 0 0 0 0 1 0 3 3 0 0 0 3 2 2 1 1 1 1 2\n",
      " 1 2 1 1 3 3 3 1 0 0 2 3 1 0 0 3 0 3 1 0 0 0 3 2 1 2 0 0 3 0 2 0 1 1 1 2 1\n",
      " 1 0 0 0 3 0 0 3 3 3 0 0 3 0 0 0 0 3 0 0 3 0 3 1 0 0 0 1 2 2 0 0 0 0 2 0 3\n",
      " 2 0 3 3 1 0 0 1 0 1 2 3 0 2 0 1 1 1 0 0 3 1 0 0 0 1 1 1 0 0 0 1 0 1 1 0 0\n",
      " 3 1 1 2 3 3 1 1 1 0 1 2 1 0 1 1 2 1 1 3 0 0 2 2 1 2 2 0 0 2 0 0 1 0 0 0 2\n",
      " 2 2 1 0 3 2 1 1 1 1 0 0 0 0 3 0 0 3 0 0 0 1 2 1 0 2 1]\n"
     ]
    }
   ],
   "source": [
    "print(kmeans.labels_)"
   ]
  },
  {
   "cell_type": "markdown",
   "metadata": {},
   "source": [
    "As we already know how the orignal features contribute to the new components, now we can try to describe the clusters. To be specific, cluster1 has low score in both component1 and component2 , which means it has low *new stud. from top 25% , tuition fee and new stud. enrolled* while cluster 2 has high score in component1 but low score in component2, so basically it means those schools have high tuition so there are few students want to enroll. And so on, the cluster 3 represents school that has medium new stud.from top 25% and tuition fee , the cluster 4 represents school that has low tuition fee but  high stud. enrolled and I guess this is because they are public school with low tuition but they have good education equality so they attracted many students, eg: University of Florida."
   ]
  },
  {
   "cell_type": "markdown",
   "metadata": {},
   "source": [
    "Finally let's try to repeat step3 and find more interesting conclusions. For example, let's try to use three components."
   ]
  },
  {
   "cell_type": "code",
   "execution_count": 32,
   "metadata": {},
   "outputs": [
    {
     "data": {
      "text/plain": [
       "KMeans(algorithm='auto', copy_x=True, init='k-means++', max_iter=300,\n",
       "       n_clusters=4, n_init=10, n_jobs=None, precompute_distances='auto',\n",
       "       random_state=None, tol=0.0001, verbose=0)"
      ]
     },
     "execution_count": 32,
     "metadata": {},
     "output_type": "execute_result"
    }
   ],
   "source": [
    "kmeans=KMeans(n_clusters=4)\n",
    "pca = decomposition.PCA(n_components=3)\n",
    "pca.fit(us_new)\n",
    "us_new_pca3=pca.transform(us_new)\n",
    "kmeans.fit(us_new_pca3)"
   ]
  },
  {
   "cell_type": "code",
   "execution_count": 33,
   "metadata": {},
   "outputs": [
    {
     "name": "stdout",
     "output_type": "stream",
     "text": [
      "[0 0 3 1 0 0 1 1 0 0 2 2 2 3 3 3 3 3 1 3 0 3 1 3 3 3 1 0 3 0 0 0 0 0 3 1 1\n",
      " 3 1 1 3 0 2 1 3 3 1 2 1 0 1 0 1 3 1 3 2 0 3 1 1 2 1 1 2 1 1 1 1 1 0 0 3 1\n",
      " 1 0 1 1 2 1 1 0 0 1 1 1 1 3 3 3 0 1 1 0 1 1 3 2 2 0 1 1 3 1 1 1 1 0 1 0 1\n",
      " 1 1 1 1 1 0 1 0 0 0 0 1 3 1 1 0 1 1 0 2 1 3 3 1 1 3 1 3 3 1 3 1 3 0 0 0 0\n",
      " 3 1 2 3 3 3 3 3 0 2 0 3 3 0 1 0 1 1 1 0 1 1 0 2 2 0 1 2 1 3 1 1 1 1 3 0 1\n",
      " 1 1 2 0 0 1 1 0 0 0 0 2 1 3 0 1 1 1 1 0 2 0 2 0 0 2 0 0 3 3 2 0 0 0 1 1 0\n",
      " 1 0 0 1 1 2 2 0 0 2 0 0 0 2 0 0 1 0 1 1 0 2 0 3 1 1 2 0 1 3 1 0 1 2 1 3 2\n",
      " 1 1 2 2 0 1 0 3 1 1 3 3 3 3 1 1 3 1 1 1 1 1 0 1 3 3 1 1 1 3 2 2 0 0 0 0 2\n",
      " 0 2 0 0 3 3 3 0 1 1 2 3 1 1 1 3 1 3 1 1 1 1 3 2 0 2 1 1 3 1 2 1 0 0 0 2 0\n",
      " 0 1 1 1 3 1 1 3 3 3 1 1 3 1 1 1 1 3 1 1 3 1 3 0 1 1 1 0 0 0 1 1 1 3 2 1 3\n",
      " 2 1 3 3 0 1 1 0 1 1 2 3 1 2 1 0 0 0 1 1 3 0 1 1 1 0 0 0 1 1 1 0 1 0 0 1 1\n",
      " 3 0 0 2 3 3 0 0 0 1 0 2 0 1 0 0 1 0 0 3 1 1 2 2 0 2 2 1 1 2 1 1 0 1 1 1 2\n",
      " 2 2 0 1 3 2 0 0 0 0 1 1 1 1 3 1 1 3 1 1 1 0 2 1 1 2 0]\n"
     ]
    }
   ],
   "source": [
    "print(kmeans.labels_)"
   ]
  },
  {
   "cell_type": "code",
   "execution_count": 34,
   "metadata": {},
   "outputs": [],
   "source": [
    "pca_x_new=[]\n",
    "pca_y_new=[]\n",
    "pca_z_new=[]\n",
    "for n in us_new_pca3:\n",
    "    pca_x_new.append(n[0])\n",
    "    pca_y_new.append(n[1])\n",
    "    pca_z_new.append(n[2])"
   ]
  },
  {
   "cell_type": "code",
   "execution_count": 35,
   "metadata": {},
   "outputs": [
    {
     "data": {
      "text/plain": [
       "<Figure size 7200x3600 with 0 Axes>"
      ]
     },
     "metadata": {},
     "output_type": "display_data"
    },
    {
     "data": {
      "image/png": "[encoded data removed]",
      "text/plain": [
       "<Figure size 432x288 with 1 Axes>"
      ]
     },
     "metadata": {
      "needs_background": "light"
     },
     "output_type": "display_data"
    }
   ],
   "source": [
    "from mpl_toolkits.mplot3d import Axes3D\n",
    "plt.figure(figsize=(100,50))  \n",
    "fig = plt.figure()\n",
    "ax = Axes3D(fig)\n",
    "colors = ['b', 'g', 'r','y']  \n",
    "markers = ['o', 's', 'D','^']\n",
    "\n",
    "for i,l in enumerate(kmeans.labels_): \n",
    "    ax.scatter(pca_y_new[i],pca_x_new[i],pca_z_new[i],color=colors[l],marker=markers[l],ls='None')\n",
    "\n",
    "plt.show()  "
   ]
  },
  {
   "cell_type": "markdown",
   "metadata": {},
   "source": [
    "The same logic from above, since we know component3 mainly represents new students from top 25%&10, and the room, it means we have more consideration about the accommodation. And here we got four clusters: Cluster brown means schools having low scores in all components, they connot get good fresh students from top 25% or 10% neither can they offer a lot of rooms to students. The other three has their feature. The cluster blue has high tuition fee while the green has low tuition fee and a little more room than cluster blue. As for the cluster red, it does a pretty good job in all three components, which means although it is expensive but it offers more room and has a lot of top students, sounds like thoes top priviate universities right?  eg: Columbia University."
   ]
  },
  {
   "cell_type": "markdown",
   "metadata": {},
   "source": [
    "Finally Let's see without pca what will happen if we still use kmeans algorithm and draw some related graphs"
   ]
  },
  {
   "cell_type": "code",
   "execution_count": 36,
   "metadata": {},
   "outputs": [
    {
     "data": {
      "text/plain": [
       "KMeans(algorithm='auto', copy_x=True, init='k-means++', max_iter=300,\n",
       "       n_clusters=4, n_init=10, n_jobs=None, precompute_distances='auto',\n",
       "       random_state=None, tol=0.0001, verbose=0)"
      ]
     },
     "execution_count": 36,
     "metadata": {},
     "output_type": "execute_result"
    }
   ],
   "source": [
    "kmeans.fit(us_new)"
   ]
  },
  {
   "cell_type": "code",
   "execution_count": 37,
   "metadata": {},
   "outputs": [],
   "source": [
    "us['Cluster name']=kmeans.labels_"
   ]
  },
  {
   "cell_type": "code",
   "execution_count": 44,
   "metadata": {},
   "outputs": [
    {
     "data": {
      "image/png": "[encoded data removed]",
      "text/plain": [
       "<Figure size 1080x576 with 1 Axes>"
      ]
     },
     "metadata": {
      "needs_background": "light"
     },
     "output_type": "display_data"
    }
   ],
   "source": [
    "cluster0=us[us['Cluster name']==0]\n",
    "cluster1=us[us['Cluster name']==1]\n",
    "cluster2=us[us['Cluster name']==2]\n",
    "cluster3=us[us['Cluster name']==3]\n",
    "\n",
    "plt.figure(figsize=(15, 8))  # 设置画布\n",
    "x_index = np.arange(4)  # 确定label的位置\n",
    "x_data = (\"cluster0\", \"cluster1\", \"cluster2\", \"cluster3\")\n",
    "y1_data = (np.mean(cluster0['% new stud. from top 10%']), np.mean(cluster1['% new stud. from top 10%']),np.mean(cluster2['% new stud. from top 10%']), np.mean(cluster3['% new stud. from top 10%']))\n",
    "y2_data = (np.mean(cluster0['% new stud. from top 25%']), np.mean(cluster1['% new stud. from top 25%']),np.mean(cluster2['% new stud. from top 25%']), np.mean(cluster3['% new stud. from top 10%']))\n",
    "y3_data = (np.mean(cluster0['Graduation rate']), np.mean(cluster1['Graduation rate']),np.mean(cluster2['Graduation rate']), np.mean(cluster3['Graduation rate']))\n",
    "bar_with = 0.2  # 定义一个数字代表独立柱的宽度\n",
    "rects1 = plt.bar(x_index, y1_data, width=bar_with, alpha=0.4, color=\"b\", label=\"% new stud. from top 10%\")\n",
    "rects2 = plt.bar(x_index+bar_with, y2_data, width=bar_with, alpha=0.4, color=\"r\", label=\"% new stud. from top 25%\")\n",
    "rects3 = plt.bar(x_index+(bar_with*2), y3_data, width=bar_with, alpha=0.4, color=\"g\", label=\"Graduation rate\")\n",
    "plt.xticks(x_index + bar_with/2, x_data)  # 设定x轴\n",
    "plt.legend()  # 显示图例\n",
    "plt.title('speciality among different clusters')\n",
    "plt.tight_layout()\n",
    "# plt.grid(axis=\"y\")\n",
    "plt.grid(ls='-.')  # 绘制背景线\n",
    "plt.show()"
   ]
  },
  {
   "cell_type": "markdown",
   "metadata": {},
   "source": [
    "From this graph we can know the differences among those clusters"
   ]
  },
  {
   "cell_type": "code",
   "execution_count": null,
   "metadata": {},
   "outputs": [],
   "source": []
  }
 ],
 "metadata": {
  "kernelspec": {
   "display_name": "Python 3",
   "language": "python",
   "name": "python3"
  },
  "language_info": {
   "codemirror_mode": {
    "name": "ipython",
    "version": 3
   },
   "file_extension": ".py",
   "mimetype": "text/x-python",
   "name": "python",
   "nbconvert_exporter": "python",
   "pygments_lexer": "ipython3",
   "version": "3.7.6"
  }
 },
 "nbformat": 4,
 "nbformat_minor": 4
}
